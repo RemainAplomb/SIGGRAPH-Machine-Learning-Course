{
  "cells": [
    {
      "cell_type": "markdown",
      "metadata": {},
      "source": [
        "\n",
        "Name: Rahmani Dibansa\n",
        "\n",
        "Date: 23rd of August 2022\n",
        "\n",
        "Description:\n",
        "    This contains my output for the homework on lecture 4\n",
        "Description Edit:\n",
        "    I misunderstood the homework for lecture 4. I thought I need to use the encoder.\n",
        "    But I realized that the homework should be like the flower classification in lecture 3\n",
        "    \n",
        "Homework Goals:\n",
        "    - Use the mnist dataset for classification\n",
        "    - Display the confidence level on the prediction\n",
        "    - Display the next most likely prediction\n",
        "\n",
        "Reference(s):\n",
        "    ACMSIGGRAPH. SIGGRAPH Now | Hands-on Workshop: Machine Learning and Neural Networks – Lecture 4\n",
        "    Retrieved from: https://www.youtube.com/watch?v=zhwQXbWANkw&list=PLUPhVMQuDB_b2kcOooEduedthcBH53mvC&index=5\n"
      ]
    },
    {
      "cell_type": "code",
      "execution_count": 1,
      "metadata": {
        "colab": {},
        "colab_type": "code",
        "id": "PiIDDU_iVVsG"
      },
      "outputs": [],
      "source": [
        "#---------- Importing Packages \n",
        "# Import packages and use tensorflow version 2.x\n",
        "#%tensorflow_version 2.x\n",
        "import numpy as np\n",
        "import matplotlib.pyplot as plt\n",
        "#%matplotlib inline\n",
        "import keras\n",
        "from keras.datasets import mnist\n",
        "from keras.models import Sequential\n",
        "from keras.layers import Dense, Dropout\n",
        "from sklearn.metrics import confusion_matrix\n",
        "import seaborn as sns\n",
        "\n",
        "np.random.seed(0)"
      ]
    },
    {
      "cell_type": "code",
      "execution_count": 2,
      "metadata": {
        "colab": {},
        "colab_type": "code",
        "id": "GF3ongiwCjIo"
      },
      "outputs": [
        {
          "name": "stdout",
          "output_type": "stream",
          "text": [
            "\n",
            "======================================================================\n",
            "\n",
            " Shape of training features:  (60000, 28, 28)\n",
            " Shape of training ground truths:  (60000,)\n",
            "\n",
            "======================================================================\n",
            "\n",
            " Shape of test features:  (10000, 28, 28)\n",
            " Shape of test ground truths:  (10000,)\n",
            "\n",
            "======================================================================\n",
            "\n"
          ]
        },
        {
          "data": {
            "image/png": "[encoded data removed]",
            "text/plain": [
              "<Figure size 2000x2000 with 10 Axes>"
            ]
          },
          "metadata": {},
          "output_type": "display_data"
        }
      ],
      "source": [
        "# TAKE THE MNIST DATASET\n",
        "# mnist data of grayscale images of handwritten digits\n",
        "(x_train, y_train) , (x_test, y_test) = mnist.load_data()\n",
        "\n",
        "\n",
        "# Check if the shape is uniform\n",
        "print( \"\\n======================================================================\\n\" )\n",
        "print( \" Shape of training features: \", x_train.shape )\n",
        "print( \" Shape of training ground truths: \", y_train.shape)\n",
        "print( \"\\n======================================================================\\n\" )\n",
        "print( \" Shape of test features: \", x_test.shape )\n",
        "print( \" Shape of test ground truths: \", y_test.shape)\n",
        "print( \"\\n======================================================================\\n\" )\n",
        "\n",
        "\n",
        "# Display 10 classes\n",
        "num_classes = 10\n",
        "f, ax = plt.subplots(1, num_classes, figsize=(20,20))\n",
        "\n",
        "for i in range(0, num_classes):\n",
        "  sample = x_train[y_train == i][0]\n",
        "  ax[i].imshow(sample, cmap='gray')\n",
        "  ax[i].set_title(\"Label: {}\".format(i), fontsize=16)\n",
        "  # print( y_train[i])"
      ]
    },
    {
      "cell_type": "code",
      "execution_count": 3,
      "metadata": {},
      "outputs": [
        {
          "name": "stdout",
          "output_type": "stream",
          "text": [
            "\n",
            "======================================================================\n",
            "\n",
            " BEFORE RESHAPING: \n",
            "\n",
            " Shape of training features:  (60000, 28, 28)\n",
            " Shape of test features:  (10000, 28, 28)\n",
            "\n",
            "======================================================================\n",
            "\n",
            "\n",
            "======================================================================\n",
            "\n",
            " AFTER RESHAPING: \n",
            "\n",
            " Shape of training features:  (60000, 784)\n",
            " Shape of test features:  (10000, 784)\n",
            "\n",
            "======================================================================\n",
            "\n"
          ]
        }
      ],
      "source": [
        "# Add the categories\n",
        "y_train = keras.utils.to_categorical(y_train, num_classes)\n",
        "y_test = keras.utils.to_categorical(y_test, num_classes)\n",
        "\n",
        "# Normalize Data\n",
        "x_train = x_train / 255.0\n",
        "x_test = x_test / 255.0\n",
        "\n",
        "\n",
        "print( \"\\n======================================================================\\n\" )\n",
        "print( \" BEFORE RESHAPING: \\n\")\n",
        "print( \" Shape of training features: \", x_train.shape )\n",
        "print( \" Shape of test features: \", x_test.shape)\n",
        "print( \"\\n======================================================================\\n\" )\n",
        "\n",
        "# Reshape Data\n",
        "# Here we will make each pixel a feature\n",
        "x_train = x_train.reshape(x_train.shape[0], -1)\n",
        "x_test = x_test.reshape(x_test.shape[0], -1)\n",
        "\n",
        "print( \"\\n======================================================================\\n\" )\n",
        "print( \" AFTER RESHAPING: \\n\")\n",
        "print( \" Shape of training features: \", x_train.shape )\n",
        "print( \" Shape of test features: \", x_test.shape)\n",
        "print( \"\\n======================================================================\\n\" )"
      ]
    },
    {
      "cell_type": "code",
      "execution_count": 4,
      "metadata": {},
      "outputs": [
        {
          "name": "stdout",
          "output_type": "stream",
          "text": [
            "Model: \"sequential\"\n",
            "_________________________________________________________________\n",
            " Layer (type)                Output Shape              Param #   \n",
            "=================================================================\n",
            " Input_Layer (Dense)         (None, 128)               100480    \n",
            "                                                                 \n",
            " dense_01 (Dense)            (None, 128)               16512     \n",
            "                                                                 \n",
            " dropout (Dropout)           (None, 128)               0         \n",
            "                                                                 \n",
            " Output_Layer (Dense)        (None, 10)                1290      \n",
            "                                                                 \n",
            "=================================================================\n",
            "Total params: 118,282\n",
            "Trainable params: 118,282\n",
            "Non-trainable params: 0\n",
            "_________________________________________________________________\n"
          ]
        }
      ],
      "source": [
        "# Create the model\n",
        "# This model has an input layer that takes in the 784 features of the 28*28 image\n",
        "model = Sequential()\n",
        "model.add(Dense(units=128, input_shape=(784,), activation='relu' , name=\"Input_Layer\"))\n",
        "model.add(Dense(units=128, activation='relu', name=\"dense_01\"))\n",
        "model.add(Dropout(0.25))\n",
        "model.add(Dense(units=10, activation='softmax', name=\"Output_Layer\"))\n",
        "\n",
        "# Compile the model and track the accuracy\n",
        "# After that, display the summary\n",
        "model.compile(loss='categorical_crossentropy', optimizer='adam', metrics=['accuracy'])\n",
        "model.summary()"
      ]
    },
    {
      "cell_type": "code",
      "execution_count": 5,
      "metadata": {},
      "outputs": [
        {
          "name": "stdout",
          "output_type": "stream",
          "text": [
            "Epoch 1/10\n",
            "118/118 [==============================] - 9s 39ms/step - loss: 0.5932 - accuracy: 0.8297\n",
            "Epoch 2/10\n",
            "118/118 [==============================] - 4s 36ms/step - loss: 0.2222 - accuracy: 0.9351\n",
            "Epoch 3/10\n",
            "118/118 [==============================] - 4s 38ms/step - loss: 0.1636 - accuracy: 0.9521\n",
            "Epoch 4/10\n",
            "118/118 [==============================] - 5s 43ms/step - loss: 0.1322 - accuracy: 0.9617\n",
            "Epoch 5/10\n",
            "118/118 [==============================] - 5s 40ms/step - loss: 0.1080 - accuracy: 0.9686\n",
            "Epoch 6/10\n",
            "118/118 [==============================] - 5s 41ms/step - loss: 0.0928 - accuracy: 0.9722\n",
            "Epoch 7/10\n",
            "118/118 [==============================] - 4s 35ms/step - loss: 0.0791 - accuracy: 0.9766\n",
            "Epoch 8/10\n",
            "118/118 [==============================] - 5s 38ms/step - loss: 0.0690 - accuracy: 0.9795\n",
            "Epoch 9/10\n",
            "118/118 [==============================] - 4s 37ms/step - loss: 0.0615 - accuracy: 0.9815\n",
            "Epoch 10/10\n",
            "118/118 [==============================] - 5s 41ms/step - loss: 0.0541 - accuracy: 0.9834\n"
          ]
        },
        {
          "data": {
            "text/plain": [
              "<keras.callbacks.History at 0x1fcaf1f06a0>"
            ]
          },
          "execution_count": 5,
          "metadata": {},
          "output_type": "execute_result"
        }
      ],
      "source": [
        "# Train the model\n",
        "batch_size = 512\n",
        "epochs=10\n",
        "model.fit(x=x_train, y=y_train, batch_size=batch_size, epochs=epochs)"
      ]
    },
    {
      "cell_type": "code",
      "execution_count": 7,
      "metadata": {},
      "outputs": [
        {
          "name": "stdout",
          "output_type": "stream",
          "text": [
            "313/313 [==============================] - 1s 4ms/step - loss: 0.0734 - accuracy: 0.9762\n",
            "\n",
            "======================================================================\n",
            "\n",
            " EVALUATION \n",
            "\n",
            " Test Loss:  0.07343648374080658\n",
            " Test Accuracy:  0.9761999845504761\n",
            "\n",
            "======================================================================\n",
            "\n"
          ]
        }
      ],
      "source": [
        "# Evaluate the model using the testing data\n",
        "test_loss, test_acc = model.evaluate(x_test, y_test)\n",
        "print( \"\\n======================================================================\\n\" )\n",
        "print( \" EVALUATION \\n\")\n",
        "print( \" Test Loss: \", test_loss )\n",
        "print( \" Test Accuracy: \", test_acc)\n",
        "print( \"\\n======================================================================\\n\" )"
      ]
    },
    {
      "cell_type": "code",
      "execution_count": 40,
      "metadata": {},
      "outputs": [
        {
          "name": "stdout",
          "output_type": "stream",
          "text": [
            "313/313 [==============================] - 2s 5ms/step\n",
            "\n",
            "======================================================================\n",
            "\n",
            " PREDICTION \n",
            "\n",
            " True Class:  0\n",
            " Most Likely Predictions: \n",
            "          Number:  2\n",
            "          Confidence:  0.046734578791074455\n",
            "          Number:  0\n",
            "          Confidence:  99.95038509368896\n",
            "\n",
            "======================================================================\n",
            "\n",
            "[9.99503851e-01 3.05363142e-06 4.67345788e-04 5.31409569e-06\n",
            " 2.91670358e-06 1.06224704e-07 5.82313851e-06 2.21769665e-06\n",
            " 8.76342710e-06 7.08935431e-07]\n"
          ]
        },
        {
          "data": {
            "image/png": "[encoded data removed]",
            "text/plain": [
              "<Figure size 640x480 with 1 Axes>"
            ]
          },
          "metadata": {},
          "output_type": "display_data"
        }
      ],
      "source": [
        "# Start predicting using the a random data from the testing data\n",
        "predictionResult = model.predict(x_test) # An array of all the predictions on our test data\n",
        "y_pred_classes = np.argmax(predictionResult, axis=1)\n",
        "\n",
        "\n",
        "# Choose a random test data (random index)\n",
        "random_idx = np.random.choice(len(x_test))\n",
        "\n",
        "# Get the prediction result of the random test data\n",
        "result = predictionResult[random_idx]\n",
        "# Get the features of the random test data\n",
        "x_sample = x_test[random_idx]\n",
        "# Get the correct result for the random test data\n",
        "correct_class = y_test[random_idx]\n",
        "correct_class = np.argmax(correct_class)\n",
        "\n",
        "# Get the data for the 2 most likely prediction\n",
        "top_pred = np.argpartition( result, -2)[-2:]\n",
        "top_conf = result[top_pred]\n",
        "\n",
        "# Get the data for the most likely prediction\n",
        "first_pred = np.argmax(result)\n",
        "first_conf = result[first_pred]\n",
        "\n",
        "# Get the data for the 2 most likely prediction\n",
        "top_pred = np.argpartition( result, -2)[-2:]\n",
        "\n",
        "\n",
        "plt.title(\"Predicted: {}, True: {}\".format(first_pred, correct_class), fontsize=16)\n",
        "plt.imshow(x_sample.reshape(28, 28), cmap='gray')\n",
        "\n",
        "print( \"\\n======================================================================\\n\" )\n",
        "print( \" PREDICTION \\n\")\n",
        "print( \" True Class: \", correct_class)\n",
        "print( \" Most Likely Predictions: \" )\n",
        "for pred in top_pred:\n",
        "    print( \"          Number: \" , pred)\n",
        "    print( \"          Confidence: \" , result[pred] * 100) \n",
        "print( \"\\n======================================================================\\n\" )\n",
        "print( result)\n"
      ]
    }
  ],
  "metadata": {
    "colab": {
      "collapsed_sections": [],
      "name": "Autoencoder.ipynb",
      "provenance": []
    },
    "kernelspec": {
      "display_name": "Python 3.10.6 64-bit",
      "language": "python",
      "name": "python3"
    },
    "language_info": {
      "codemirror_mode": {
        "name": "ipython",
        "version": 3
      },
      "file_extension": ".py",
      "mimetype": "text/x-python",
      "name": "python",
      "nbconvert_exporter": "python",
      "pygments_lexer": "ipython3",
      "version": "3.10.6"
    },
    "vscode": {
      "interpreter": {
        "hash": "ab2c83b243fb879010d169f2f59fe1d865a42357da3e2fb5ab94d633edfe058a"
      }
    }
  },
  "nbformat": 4,
  "nbformat_minor": 0
}
