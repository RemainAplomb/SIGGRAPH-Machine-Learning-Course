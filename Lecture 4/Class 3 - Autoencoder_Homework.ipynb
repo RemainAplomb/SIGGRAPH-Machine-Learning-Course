{
  "cells": [
    {
      "cell_type": "markdown",
      "metadata": {},
      "source": [
        "\n",
        "Name: Rahmani Dibansa\n",
        "\n",
        "Date: 23rd of August 2022\n",
        "\n",
        "Description:\n",
        "    This contains my output for the homework on lecture 4\n",
        "Description Edit:\n",
        "    I misunderstood the homework for lecture 4. I thought I need to use the encoder.\n",
        "    But I realized that the homework should be like the flower classification in lecture 3\n",
        "    \n",
        "Homework Goals:\n",
        "    - Use the mnist dataset for classification\n",
        "    - Display the confidence level on the prediction\n",
        "    - Display the next most likely prediction\n",
        "\n",
        "Reference(s):\n",
        "    ACMSIGGRAPH. SIGGRAPH Now | Hands-on Workshop: Machine Learning and Neural Networks – Lecture 4\n",
        "    Retrieved from: https://www.youtube.com/watch?v=zhwQXbWANkw&list=PLUPhVMQuDB_b2kcOooEduedthcBH53mvC&index=5\n"
      ]
    },
    {
      "cell_type": "code",
      "execution_count": 1,
      "metadata": {
        "colab": {},
        "colab_type": "code",
        "id": "PiIDDU_iVVsG"
      },
      "outputs": [],
      "source": [
        "# %tensorflow_version 2.x\n",
        "import numpy as np\n",
        "import pandas as pd\n",
        "import matplotlib.pyplot as plt\n",
        "import seaborn as sns\n",
        "import tensorflow as tf\n",
        "\n",
        "\n",
        "import cv2\n"
      ]
    },
    {
      "cell_type": "code",
      "execution_count": 2,
      "metadata": {
        "colab": {},
        "colab_type": "code",
        "id": "GF3ongiwCjIo"
      },
      "outputs": [],
      "source": [
        "# TAKE THE MNIST DATASET\n",
        "mnist = tf.keras.datasets.mnist # mnist data of grayscale images of handwritten digits\n",
        "\n",
        "# LOAD THE DATA, GET THE TRAINING AND TESTING DATA\n",
        "(x_train, y_train), (x_test, y_test) = mnist.load_data() # load it into training and testing sets\n",
        "\n",
        "\n",
        "# To understand what is inside the data, I will be printing it\n",
        "# Please be advised that the describe function will not work on this\n",
        "# Because we are using the numpy package, and not the pandas\n",
        "#\n",
        "# By looking at the data, we can see that it contains an array of\n",
        "# numbers ranging from 0-255. It is to represent the color of the pixels\n",
        "\"\"\"\"\n",
        "print( \"\\n======================================================================\\n\" )\n",
        "print( \" The shape of the data: \", x_train.shape)\n",
        "print(' Training Data(Features): \\n', x_train)\n",
        "\n",
        "print( \"\\n======================================================================\\n\" )\n",
        "print(' Training Data(Ground Truth): \\n', y_train)\n",
        "\n",
        "print( \"\\n======================================================================\\n\" )\n",
        "print(' Testing Data(Features): \\n', x_test)\n",
        "\n",
        "print( \"\\n======================================================================\\n\" )\n",
        "print(' Testing Data(Ground Truth): \\n', y_test)\n",
        "\"\"\"\n",
        "\n",
        "# NORMALIZE THE DATA\n",
        "# To normalize the data from the image, we divide it by 255.0(the number of pixels)\n",
        "x_train, x_test = x_train/255.0, x_test/255.0 # the data is in the range (0,255) grayscale value for each pixel, normalize it"
      ]
    },
    {
      "cell_type": "code",
      "execution_count": 3,
      "metadata": {
        "colab": {},
        "colab_type": "code",
        "id": "rRd0_7ktI0Fd"
      },
      "outputs": [
        {
          "name": "stdout",
          "output_type": "stream",
          "text": [
            "\n",
            "======================================================================\n",
            "\n",
            " TRAINING DATA (FEATURES) \n",
            "\n",
            " The shape of the data:  (60000, 28, 28)\n",
            " Max value:  1.0\n",
            " Min value:  0.0\n",
            " Argmax:  161\n",
            " Argmin:  0\n",
            "\n",
            "======================================================================\n",
            "\n",
            "\n",
            "======================================================================\n",
            "\n",
            " TESTING DATA (FEATURES) \n",
            "\n",
            " The shape of the data:  (10000, 28, 28)\n",
            " Max value:  1.0\n",
            " Min value:  0.0\n",
            " Argmax:  355\n",
            " Argmin:  0\n",
            "\n",
            "======================================================================\n",
            "\n"
          ]
        }
      ],
      "source": [
        "# After normalizing the data, it range from 0 - 1.0\n",
        "# Let's print it\n",
        "print( \"\\n======================================================================\\n\" )\n",
        "print( \" TRAINING DATA (FEATURES) \\n\")\n",
        "print( \" The shape of the data: \", x_train.shape) # ( number of images, the length of x axis, the height of y axis )\n",
        "print( \" Max value: \", x_train.max())\n",
        "print( \" Min value: \", x_train.min())\n",
        "print( \" Argmax: \", x_train.argmax())\n",
        "print( \" Argmin: \", x_train.argmin())\n",
        "#print('\\n Training Data(Features): \\n', x_train)\n",
        "print( \"\\n======================================================================\\n\" )\n",
        "\n",
        "print( \"\\n======================================================================\\n\" )\n",
        "print( \" TESTING DATA (FEATURES) \\n\")\n",
        "print( \" The shape of the data: \", x_test.shape) # ( number of images, the length of x axis, the height of y axis )\n",
        "print( \" Max value: \", x_test.max())\n",
        "print( \" Min value: \", x_test.min())\n",
        "print( \" Argmax: \", x_test.argmax())\n",
        "print( \" Argmin: \", x_test.argmin())\n",
        "#print('\\n Training Data(Features): \\n', x_test)\n",
        "print( \"\\n======================================================================\\n\" )"
      ]
    },
    {
      "cell_type": "code",
      "execution_count": 4,
      "metadata": {
        "colab": {},
        "colab_type": "code",
        "id": "MMa4n9DUI25i"
      },
      "outputs": [
        {
          "name": "stdout",
          "output_type": "stream",
          "text": [
            "\n",
            "======================================================================\n",
            "\n",
            " TRAINING DATA (GROUND TRUTH) \n",
            "\n",
            " The shape of the data:  (60000,)\n",
            " Max value:  9\n",
            " Min value:  0\n",
            " Argmax:  4\n",
            " Argmin:  1\n",
            " First 10 elements:  [5 0 4 1 9 2 1 3 1 4]\n",
            "\n",
            "======================================================================\n",
            "\n",
            "\n",
            "======================================================================\n",
            "\n",
            " TESTING DATA (GROUND TRUTH) \n",
            "\n",
            " The shape of the data:  (10000,)\n",
            " Max value:  9\n",
            " Min value:  0\n",
            " Argmax:  7\n",
            " Argmin:  3\n",
            " First 10 elements:  [5 0 4 1 9 2 1 3 1 4]\n",
            "\n",
            "======================================================================\n",
            "\n"
          ]
        }
      ],
      "source": [
        "print( \"\\n======================================================================\\n\" )\n",
        "print( \" TRAINING DATA (GROUND TRUTH) \\n\")\n",
        "print( \" The shape of the data: \", y_train.shape) # ( number of images, number of x pixels, number of y pixels )\n",
        "print( \" Max value: \", y_train.max())\n",
        "print( \" Min value: \", y_train.min())\n",
        "print( \" Argmax: \", y_train.argmax())\n",
        "print( \" Argmin: \", y_train.argmin())\n",
        "print( \" First 10 elements: \", y_train[:10])\n",
        "#print('\\n Training Data(Features): \\n', x_train)\n",
        "print( \"\\n======================================================================\\n\" )\n",
        "\n",
        "print( \"\\n======================================================================\\n\" )\n",
        "print( \" TESTING DATA (GROUND TRUTH) \\n\")\n",
        "print( \" The shape of the data: \", y_test.shape) # ( number of images, number of x pixels, number of y pixels )\n",
        "print( \" Max value: \", y_test.max())\n",
        "print( \" Min value: \", y_test.min())\n",
        "print( \" Argmax: \", y_test.argmax())\n",
        "print( \" Argmin: \", y_test.argmin())\n",
        "print( \" First 10 elements: \", y_train[:10])\n",
        "#print('\\n Training Data(Features): \\n', x_test)\n",
        "print( \"\\n======================================================================\\n\" )\n",
        "\n",
        "# Additional comments:\n",
        "# As can be seen from displaying the information related to both data,\n",
        "# The data for the features has been processed and turned into their\n",
        "# corresponding value\n",
        "# However, the data on the ground truth remains to be the ID of the \n",
        "# handwritten image from mnist"
      ]
    },
    {
      "cell_type": "code",
      "execution_count": 5,
      "metadata": {},
      "outputs": [
        {
          "name": "stdout",
          "output_type": "stream",
          "text": [
            "Epoch 1/10\n",
            "1875/1875 [==============================] - 15s 6ms/step - loss: 0.0473\n",
            "Epoch 2/10\n",
            "1875/1875 [==============================] - 11s 6ms/step - loss: 0.0225\n",
            "Epoch 3/10\n",
            "1875/1875 [==============================] - 12s 6ms/step - loss: 0.0160\n",
            "Epoch 4/10\n",
            "1875/1875 [==============================] - 11s 6ms/step - loss: 0.0133\n",
            "Epoch 5/10\n",
            "1875/1875 [==============================] - 12s 7ms/step - loss: 0.0119\n",
            "Epoch 6/10\n",
            "1875/1875 [==============================] - 12s 6ms/step - loss: 0.0113\n",
            "Epoch 7/10\n",
            "1875/1875 [==============================] - 12s 6ms/step - loss: 0.0109\n",
            "Epoch 8/10\n",
            "1875/1875 [==============================] - 11s 6ms/step - loss: 0.0107\n",
            "Epoch 9/10\n",
            "1875/1875 [==============================] - 13s 7ms/step - loss: 0.0106\n",
            "Epoch 10/10\n",
            "1875/1875 [==============================] - 12s 6ms/step - loss: 0.0105\n"
          ]
        }
      ],
      "source": [
        "#train model\n",
        "model = tf.keras.models.Sequential([\n",
        "        # the input layer                               \n",
        "        tf.keras.layers.InputLayer((28,28)),\n",
        "        # flatten it into a single column\n",
        "        tf.keras.layers.Flatten(), \n",
        "        # bottleneck layer\n",
        "        tf.keras.layers.Dense(32, activation='relu'),\n",
        "        # the output layer\n",
        "        tf.keras.layers.Dense(28*28, activation='sigmoid'),\n",
        "        # the output layer, reshape the flattened column into an image shape\n",
        "\t      tf.keras.layers.Reshape((28, 28, 1))\n",
        "\t  ])\n",
        "\n",
        "# compile, using the adamax optimizer for gradient descend and mean square error for loss\n",
        "# The adamax optimizer follows the adamax algorithm\n",
        "# This is an extension of adam. And is used to have an optimized gradient descent\n",
        "model.compile(optimizer='adamax', loss='mse')\n",
        "\n",
        "# fit (train) the model on the test data. The input and the output is the same because\n",
        "# we are trying to re-construct the original input after compression\n",
        "train_hist = model.fit(x_train, x_train, epochs=10)     "
      ]
    },
    {
      "cell_type": "code",
      "execution_count": 93,
      "metadata": {},
      "outputs": [],
      "source": [
        "# Retrieved from: https://stackoverflow.com/questions/68214855/tensorflow-keras-mnist-get-probabilities-of-prediction\n",
        "\n",
        "\n",
        "# Additional comments:\n",
        "#       - If you have an L mode image, that means it is a single channel image - \n",
        "#         normally interpreted as greyscale. The L means that is just stores the \n",
        "#         Luminance. It is very compact, but only stores a greyscale, not colour.\n"
      ]
    },
    {
      "cell_type": "code",
      "execution_count": 11,
      "metadata": {},
      "outputs": [
        {
          "name": "stdout",
          "output_type": "stream",
          "text": [
            "1/1 [==============================] - 0s 117ms/step\n"
          ]
        },
        {
          "data": {
            "text/plain": [
              "<matplotlib.image.AxesImage at 0x2a950948640>"
            ]
          },
          "execution_count": 11,
          "metadata": {},
          "output_type": "execute_result"
        },
        {
          "data": {
            "image/png": "[encoded data removed]",
            "text/plain": [
              "<Figure size 640x480 with 1 Axes>"
            ]
          },
          "metadata": {},
          "output_type": "display_data"
        },
        {
          "data": {
            "image/png": "[encoded data removed]",
            "text/plain": [
              "<Figure size 640x480 with 1 Axes>"
            ]
          },
          "metadata": {},
          "output_type": "display_data"
        },
        {
          "data": {
            "image/png": "[encoded data removed]",
            "text/plain": [
              "<Figure size 640x480 with 1 Axes>"
            ]
          },
          "metadata": {},
          "output_type": "display_data"
        }
      ],
      "source": [
        "loadImg = cv2.imread(\"R.jpg\", cv2.IMREAD_GRAYSCALE)\n",
        "\n",
        "# display original image\n",
        "plt.figure()\n",
        "plt.imshow(loadImg, cmap=\"gray\")\n",
        "\n",
        "resizeImg = cv2.resize( loadImg, (28,28) , interpolation= cv2.INTER_LINEAR)\n",
        "resizeImg = cv2.bitwise_not( resizeImg )\n",
        "\n",
        "# display processed image\n",
        "plt.figure()\n",
        "plt.imshow(resizeImg, cmap=\"gray\")\n",
        "\n",
        "\n",
        "predictionResult = model.predict(tf.expand_dims(resizeImg, 0))\n",
        "plt.figure()\n",
        "plt.imshow(predictionResult.squeeze(), cmap=\"gray\")\n",
        "\n",
        "\n",
        "# Retrieved from: https://www.geeksforgeeks.org/python-pil-image-open-method/\n",
        "\n",
        "\n",
        "# Additional comments:\n",
        "#       - I tried playing with the autoencoder...\n",
        "#       - I think I misunderstood the homework for lecture 4\n"
      ]
    }
  ],
  "metadata": {
    "colab": {
      "collapsed_sections": [],
      "name": "Autoencoder.ipynb",
      "provenance": []
    },
    "kernelspec": {
      "display_name": "Python 3.10.6 64-bit",
      "language": "python",
      "name": "python3"
    },
    "language_info": {
      "codemirror_mode": {
        "name": "ipython",
        "version": 3
      },
      "file_extension": ".py",
      "mimetype": "text/x-python",
      "name": "python",
      "nbconvert_exporter": "python",
      "pygments_lexer": "ipython3",
      "version": "3.10.6"
    },
    "vscode": {
      "interpreter": {
        "hash": "ab2c83b243fb879010d169f2f59fe1d865a42357da3e2fb5ab94d633edfe058a"
      }
    }
  },
  "nbformat": 4,
  "nbformat_minor": 0
}
